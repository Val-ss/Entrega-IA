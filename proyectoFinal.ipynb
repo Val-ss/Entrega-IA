{
 "cells": [
  {
   "cell_type": "markdown",
   "id": "cfd14651",
   "metadata": {},
   "source": [
    "Entretejiendo Imaginación y Algoritmos\n",
    "\n",
    "Problemática\n",
    "Muchas personas tienen dificultades para organizar su tiempo y equilibrar trabajo, estudio y vida personal.\n",
    "\n",
    "Objetivo\n",
    "Demostrar cómo los prompts de texto a texto y texto a imagen, aplicando técnicas de Fast Prompting, pueden ayudar a generar listas, esquemas y materiales visuales que mejoren la productividad.\n"
   ]
  },
  {
   "cell_type": "markdown",
   "id": "6bd96ca4",
   "metadata": {},
   "source": [
    "Modelo Texto → Texto\n",
    "\n",
    "Utilizare prompts de texto para generar listas de tareas y esquemaS"
   ]
  },
  {
   "cell_type": "code",
   "execution_count": null,
   "id": "c9711cfc",
   "metadata": {
    "vscode": {
     "languageId": "plaintext"
    }
   },
   "outputs": [],
   "source": [
    "Zero shot prompt\n",
    "Generame una lista de tareas diarias o semanales.\n",
    " \n",
    "\n",
    "Tareas Diarias\n",
    "\n",
    "Mañana:\n",
    "\n",
    "Revisar correo y mensajes importantes.\n",
    "\n",
    "Planificar el día: establecer prioridades.\n",
    "\n",
    "Realizar 30 minutos de ejercicio físico.\n",
    "\n",
    "Desayuno saludable y tiempo personal.\n",
    "\n",
    "Trabajo/Estudio:\n",
    "\n",
    "Revisar y actualizar tareas pendientes.\n",
    "\n",
    "Avanzar en proyectos principales.\n",
    "\n",
    "Asistir a reuniones o clases programadas.\n",
    "\n",
    "Revisar y organizar notas o documentación.\n",
    "\n",
    "Mediodía:\n",
    "\n",
    "Almuerzo y descanso breve.\n",
    "\n",
    "Meditación o paseo corto para despejar la mente.\n",
    "\n",
    "Tarde:\n",
    "\n",
    "Continuar con tareas de trabajo/estudio.\n",
    "\n",
    "Responder correos pendientes.\n",
    "\n",
    "Revisar progreso de objetivos diarios.\n",
    "\n",
    "Noche:\n",
    "\n",
    "Cena ligera y tiempo en familia/amigos.\n",
    "\n",
    "Preparar ropa y agenda para el día siguiente.\n",
    "\n",
    "Leer o dedicar tiempo a un hobby.\n",
    "\n",
    "Reflexión sobre el día y registrar logros.\n",
    "\n",
    "Tareas Semanales\n",
    "\n",
    "Lunes:\n",
    "\n",
    "Planificar la semana.\n",
    "\n",
    "Revisar objetivos semanales.\n",
    "\n",
    "Limpiar y organizar el espacio de trabajo.\n",
    "\n",
    "Martes:\n",
    "\n",
    "Revisar avances de proyectos.\n",
    "\n",
    "Dedicarse a tareas que requieran concentración.\n",
    "\n",
    "Ejercicio o actividad física.\n",
    "\n",
    "Miércoles:\n",
    "\n",
    "Evaluar progreso de metas semanales.\n",
    "\n",
    "Networking o interacción profesional/academica.\n",
    "\n",
    "Revisión de finanzas o presupuesto semanal.\n",
    "\n",
    "Jueves:\n",
    "\n",
    "Actualizar documentación o informes.\n",
    "\n",
    "Resolver pendientes importantes.\n",
    "\n",
    "Actividad creativa o hobby.\n",
    "\n",
    "Viernes:\n",
    "\n",
    "Cerrar tareas de la semana.\n",
    "\n",
    "Preparar reportes o resúmenes.\n",
    "\n",
    "Reflexión y planificación de mejoras para la próxima semana.\n",
    "\n",
    "Sábado:\n",
    "\n",
    "Actividades personales y recreación.\n",
    "\n",
    "Limpieza general del hogar.\n",
    "\n",
    "Tiempo con amigos/familia.\n",
    "\n",
    "Domingo:\n",
    "\n",
    "Preparación de la semana siguiente.\n",
    "\n",
    "Revisión de metas y objetivos personales.\n",
    "\n",
    "Descanso y recarga de energía."
   ]
  },
  {
   "cell_type": "code",
   "execution_count": null,
   "id": "8edffe7b",
   "metadata": {
    "vscode": {
     "languageId": "plaintext"
    }
   },
   "outputs": [],
   "source": [
    "One shot prompt\n",
    "Ejemplo de lista:\n",
    "Mañana: Desayunar, revisar agenda.\n",
    "Tarde: Estudio 2h, trabajo 4h.\n",
    "Ahora generame una lista similar para alguien que trabaja 6h y estudia 2h.\n",
    "\n",
    "\n",
    "Mañana: Estudio 2h, desayuno, revisar agenda.\n",
    "Tarde: Trabajo 6h, pausa para almuerzo incluida.\n",
    "Noche: Tiempo personal, cena, relajación o hobby."
   ]
  },
  {
   "cell_type": "code",
   "execution_count": null,
   "id": "b0eeac7f",
   "metadata": {
    "vscode": {
     "languageId": "plaintext"
    }
   },
   "outputs": [],
   "source": [
    "Few shot prompt\n",
    "Ejemplo 1: \n",
    "Mañana: Levantarse, desayunar, revisar agenda.\n",
    "Tarde: Bloque de estudio, ejercicio.\n",
    "Con horarios\n",
    "Ejemplo 2:\n",
    "Mañana: Yoga, desayuno, planificar el día.\n",
    "Tarde: Trabajar, leer documentación.\n",
    "Generame un esquema nuevo de trabajo y estudio equilibrado.\n",
    "Con horarios\n",
    "\n",
    "Mañana:\n",
    "\n",
    "07:00 – 07:30: Levantarse y rutina de higiene\n",
    "07:30 – 08:00: Desayuno\n",
    "08:00 – 08:30: Revisar agenda y planificar el día\n",
    "08:30 – 10:30: Bloque de estudio\n",
    "\n",
    "Tarde:\n",
    "\n",
    "10:30 – 11:00: Pausa / snack\n",
    "11:00 – 14:00: Trabajo\n",
    "14:00 – 15:00: Almuerzo y descanso\n",
    "15:00 – 18:00: Trabajo\n",
    "\n",
    "Noche:\n",
    "\n",
    "18:00 – 18:30: Ejercicio ligero o paseo\n",
    "18:30 – 19:00: Tiempo personal / hobby\n",
    "19:00 – 19:30: Cena\n",
    "19:30 – 20:00: Revisar avances del día y preparar el siguiente"
   ]
  },
  {
   "cell_type": "markdown",
   "id": "9cab964e",
   "metadata": {},
   "source": [
    "- Zero-Shot: obtiene resultados simples, sin personalización.\n",
    "- One-Shot: adapta la lista a un ejemplo dado.\n",
    "- Few-Shot: genera esquemas más completos y personalizados, combinando varios ejemplos."
   ]
  },
  {
   "cell_type": "markdown",
   "id": "ed9bb1c3",
   "metadata": {},
   "source": [
    "Modelo Texto → Imagen\n",
    "Se utilizarán prompts para generar hojas visuales tipo calendario o checklist.\n",
    "Se aplicarán las técnicas Zero-Shot, One-Shot y Few-Shot."
   ]
  },
  {
   "cell_type": "markdown",
   "id": "53ea1ac3",
   "metadata": {},
   "source": [
    "Zero-Shot\n",
    "\n",
    "Generame una hoja tamaño A4 vertical que contenga 7 columnas con 10 renglones con checkbox cada uno. En fondo blanco y con espacio para un titulo con un fondo de color celeste."
   ]
  },
  {
   "cell_type": "markdown",
   "id": "15f7063f",
   "metadata": {},
   "source": [
    "One-Shot\n",
    "\n",
    "Ejemplo: una hoja A4 con 7 columnas, 10 renglones con checkbox y título azul.\n",
    "Generame otra hoja similar, pero con título verde y estilo minimalista."
   ]
  },
  {
   "cell_type": "markdown",
   "id": "53c057d5",
   "metadata": {},
   "source": [
    "Few-Shot\n",
    "\n",
    "Ejemplo 1: hoja con columnas y checkboxes, fondo blanco, título celeste.\n",
    "Ejemplo 2: hoja con columnas y checkboxes, fondo blanco, título rosa.\n",
    "Generame ahora una hoja combinando los estilos para un calendario semanal visual."
   ]
  },
  {
   "cell_type": "markdown",
   "id": "dffa0e25",
   "metadata": {},
   "source": [
    "- Zero-Shot: diseño básico, útil para tener un primer borrador.\n",
    "- One-Shot: permite variaciones, adaptando un ejemplo previo.\n",
    "- Few-Shot: combina estilos y genera diseños más atractivos y personalizados.\n"
   ]
  }
 ],
 "metadata": {
  "language_info": {
   "name": "python"
  }
 },
 "nbformat": 4,
 "nbformat_minor": 5
}
